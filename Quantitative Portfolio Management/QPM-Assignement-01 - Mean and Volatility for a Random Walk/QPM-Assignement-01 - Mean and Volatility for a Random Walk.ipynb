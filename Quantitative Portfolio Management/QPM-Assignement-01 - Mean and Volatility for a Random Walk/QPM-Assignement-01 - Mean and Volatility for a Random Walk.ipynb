{
 "cells": [
  {
   "cell_type": "markdown",
   "id": "7a7889fe",
   "metadata": {},
   "source": [
    "# QPM-Assignement-01 - Mean and Volatility for a Random Walk"
   ]
  },
  {
   "cell_type": "markdown",
   "id": "b9d64383",
   "metadata": {},
   "source": [
    "by Guillaume IDAME KORALAGE"
   ]
  },
  {
   "cell_type": "markdown",
   "id": "6482997a",
   "metadata": {},
   "source": [
    "## Librairies"
   ]
  },
  {
   "cell_type": "code",
   "execution_count": 1,
   "id": "dd57dc60",
   "metadata": {},
   "outputs": [],
   "source": [
    "import pandas as pd\n",
    "import numpy as np\n",
    "import matplotlib.pyplot as plt"
   ]
  },
  {
   "cell_type": "markdown",
   "id": "c8e3324c",
   "metadata": {},
   "source": [
    "## Functions"
   ]
  },
  {
   "cell_type": "code",
   "execution_count": 9,
   "id": "a9625abe",
   "metadata": {},
   "outputs": [],
   "source": [
    "def get_random_walk(initial_price, annual_mean_value, annual_vol_value, frequency, number_years) : \n",
    "    \n",
    "    frequency_mean_value = (1 + annual_mean_value)**(1 / frequency) - 1\n",
    "    frequency_vol_value = annual_vol_value / np.sqrt(frequency)\n",
    "    \n",
    "    np.random.seed(1)\n",
    "    frequency_return_spot = np.random.normal(frequency_mean_value, frequency_vol_value, number_years * frequency)\n",
    "    \n",
    "    annualized_return_spot_mean = (1 + frequency_return_spot.mean())**frequency - 1\n",
    "    annualized_return_spot_vol = frequency_return_spot.std()*np.sqrt(frequency)\n",
    "    \n",
    "    return annualized_return_spot_mean, annualized_return_spot_vol"
   ]
  },
  {
   "cell_type": "markdown",
   "id": "ce9213d3",
   "metadata": {},
   "source": [
    "## Assignement"
   ]
  },
  {
   "cell_type": "markdown",
   "id": "66cfd053",
   "metadata": {},
   "source": [
    "##### Consider a single risky asset (e.g., the market) whose initial price is EUR 100. Suppose that the returns of this asset have a Normal distribution with a mean of 10% and volatility of 20% per year."
   ]
  },
  {
   "cell_type": "code",
   "execution_count": 2,
   "id": "4a97331c",
   "metadata": {},
   "outputs": [],
   "source": [
    "# set initial price of the asset, mean and volatility\n",
    "initial_price = 100\n",
    "annual_mean_value = 0.10 \n",
    "annual_vol_value = 0.20"
   ]
  },
  {
   "cell_type": "markdown",
   "id": "2a835bf1",
   "metadata": {},
   "source": [
    "#### Q1.1 Use Python to generate random annual returns for 100 years for this asset. Compare the annual mean and volatility of returns from your random data to the true 10% mean and 20%."
   ]
  },
  {
   "cell_type": "code",
   "execution_count": 20,
   "id": "cf820516",
   "metadata": {},
   "outputs": [
    {
     "name": "stdout",
     "output_type": "stream",
     "text": [
      "Generated annual mean: 11.21%\n",
      "Generated annual volatility: 17.70%\n"
     ]
    }
   ],
   "source": [
    "# set frequency, number years\n",
    "frequency = 1\n",
    "number_years = 100\n",
    "\n",
    "annualized_return_spot_mean, annualized_return_spot_vol = get_random_walk(initial_price, annual_mean_value, annual_vol_value, frequency, number_years)\n",
    "\n",
    "print(f\"Generated annual mean: {annualized_return_spot_mean * 100 :.2f}%\")\n",
    "print(f\"Generated annual volatility: {annualized_return_spot_vol * 100 :.2f}%\")"
   ]
  },
  {
   "cell_type": "markdown",
   "id": "2c39f3f5",
   "metadata": {},
   "source": [
    "#### Q1.2 Now, generate random monthly returns for 100 years for this risky asset. Compare the annual mean and volatility of returns from your random data to the true 10% mean and 20%."
   ]
  },
  {
   "cell_type": "code",
   "execution_count": 21,
   "id": "a0c55e93",
   "metadata": {},
   "outputs": [
    {
     "name": "stdout",
     "output_type": "stream",
     "text": [
      "Generated annual mean: 11.93%\n",
      "Generated annual volatility: 19.70%\n"
     ]
    }
   ],
   "source": [
    "# set frequency, number years\n",
    "frequency = 12\n",
    "number_years = 100\n",
    "\n",
    "annualized_return_spot_mean, annualized_return_spot_vol = get_random_walk(initial_price, annual_mean_value, annual_vol_value, frequency, number_years)\n",
    "\n",
    "print(f\"Generated annual mean: {annualized_return_spot_mean * 100 :.2f}%\")\n",
    "print(f\"Generated annual volatility: {annualized_return_spot_vol * 100 :.2f}%\")"
   ]
  },
  {
   "cell_type": "markdown",
   "id": "f9ae7931",
   "metadata": {},
   "source": [
    "#### Q1.3 Finally, generate random daily returns for 100 years for this risky asset. Compare the annual mean and volatility of returns from your random data to the true 10% mean and 20%."
   ]
  },
  {
   "cell_type": "code",
   "execution_count": 22,
   "id": "f5c14b67",
   "metadata": {},
   "outputs": [
    {
     "name": "stdout",
     "output_type": "stream",
     "text": [
      "Generated annual mean: 12.45%\n",
      "Generated annual volatility: 20.01%\n"
     ]
    }
   ],
   "source": [
    "# set frequency, number years\n",
    "frequency = 252\n",
    "number_years = 100\n",
    "\n",
    "annualized_return_spot_mean, annualized_return_spot_vol = get_random_walk(initial_price, annual_mean_value, annual_vol_value, frequency, number_years)\n",
    "\n",
    "print(f\"Generated annual mean: {annualized_return_spot_mean * 100 :.2f}%\")\n",
    "print(f\"Generated annual volatility: {annualized_return_spot_vol * 100 :.2f}%\")"
   ]
  },
  {
   "cell_type": "markdown",
   "id": "3382eb53",
   "metadata": {},
   "source": [
    "#### Q1.4 What do you conclude from the results of the three previous questions?"
   ]
  },
  {
   "cell_type": "markdown",
   "id": "d2d3c114",
   "metadata": {},
   "source": [
    "We conclude that if we increase the number of year, frequency, the annualized mean and vol converge to the mean value and vol value."
   ]
  }
 ],
 "metadata": {
  "kernelspec": {
   "display_name": "Python 3 (ipykernel)",
   "language": "python",
   "name": "python3"
  },
  "language_info": {
   "codemirror_mode": {
    "name": "ipython",
    "version": 3
   },
   "file_extension": ".py",
   "mimetype": "text/x-python",
   "name": "python",
   "nbconvert_exporter": "python",
   "pygments_lexer": "ipython3",
   "version": "3.11.5"
  }
 },
 "nbformat": 4,
 "nbformat_minor": 5
}
