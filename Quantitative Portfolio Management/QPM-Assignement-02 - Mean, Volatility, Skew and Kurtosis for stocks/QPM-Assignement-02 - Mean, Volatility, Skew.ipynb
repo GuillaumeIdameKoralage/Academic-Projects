{
 "cells": [
  {
   "cell_type": "markdown",
   "id": "e0635d8a",
   "metadata": {},
   "source": [
    "# QPM-Assignement-02 - Mean, Volatility, Skew and Kurtosis for stocks"
   ]
  },
  {
   "cell_type": "markdown",
   "id": "7869e12a",
   "metadata": {},
   "source": [
    "by Guillaume IDAME KORALAGE"
   ]
  },
  {
   "cell_type": "markdown",
   "id": "273345f0",
   "metadata": {},
   "source": [
    "## Librairies"
   ]
  },
  {
   "cell_type": "code",
   "execution_count": 7,
   "id": "2ed5aa39",
   "metadata": {},
   "outputs": [],
   "source": [
    "import pandas as pd\n",
    "import numpy as np\n",
    "\n",
    "import scipy\n",
    "from scipy.stats import skew\n",
    "from scipy.stats import kurtosis\n",
    "\n",
    "import yfinance as yf\n",
    "import matplotlib.pyplot as plt"
   ]
  },
  {
   "cell_type": "markdown",
   "id": "8d293776",
   "metadata": {},
   "source": [
    "## Functions"
   ]
  },
  {
   "cell_type": "code",
   "execution_count": 12,
   "id": "e8456288",
   "metadata": {},
   "outputs": [],
   "source": [
    "def get_market_data(list_yahoo_codes, start_date, end_date) : \n",
    "    market_data = yf.download(list_yahoo_codes, start = start_date, end = end_date)\n",
    "    return market_data"
   ]
  },
  {
   "cell_type": "markdown",
   "id": "dff779ac",
   "metadata": {},
   "source": [
    "## Assignement"
   ]
  },
  {
   "cell_type": "markdown",
   "id": "58895108",
   "metadata": {},
   "source": [
    "#### Q2.1 Download daily stock prices for FAANG stocks (Facebook/Meta, Amazon, Apple, Netix, Google/Alphabet) from January 2015 until December 2020. Note that the ticker symbols for the five stocks are: META, AMZN, AAPL, NFLX, and GOOG."
   ]
  },
  {
   "cell_type": "code",
   "execution_count": 14,
   "id": "d566ffcf",
   "metadata": {},
   "outputs": [],
   "source": [
    "list_yahoo_codes = [\"META\", \"AMZN\", \"AAPL\", \"NFLX\", \"GOOG\"]\n",
    "start_date = \"2015-01-01\"\n",
    "end_date = \"2020-12-31\""
   ]
  },
  {
   "cell_type": "code",
   "execution_count": 17,
   "id": "1d7eddfe",
   "metadata": {},
   "outputs": [
    {
     "name": "stdout",
     "output_type": "stream",
     "text": [
      "[*********************100%%**********************]  5 of 5 completed\n"
     ]
    },
    {
     "data": {
      "text/html": [
       "<div>\n",
       "<style scoped>\n",
       "    .dataframe tbody tr th:only-of-type {\n",
       "        vertical-align: middle;\n",
       "    }\n",
       "\n",
       "    .dataframe tbody tr th {\n",
       "        vertical-align: top;\n",
       "    }\n",
       "\n",
       "    .dataframe thead th {\n",
       "        text-align: right;\n",
       "    }\n",
       "</style>\n",
       "<table border=\"1\" class=\"dataframe\">\n",
       "  <thead>\n",
       "    <tr style=\"text-align: right;\">\n",
       "      <th></th>\n",
       "      <th>AAPL</th>\n",
       "      <th>AMZN</th>\n",
       "      <th>GOOG</th>\n",
       "      <th>META</th>\n",
       "      <th>NFLX</th>\n",
       "    </tr>\n",
       "    <tr>\n",
       "      <th>Date</th>\n",
       "      <th></th>\n",
       "      <th></th>\n",
       "      <th></th>\n",
       "      <th></th>\n",
       "      <th></th>\n",
       "    </tr>\n",
       "  </thead>\n",
       "  <tbody>\n",
       "    <tr>\n",
       "      <th>2020-12-23</th>\n",
       "      <td>128.687256</td>\n",
       "      <td>159.263504</td>\n",
       "      <td>86.619003</td>\n",
       "      <td>268.109985</td>\n",
       "      <td>514.479980</td>\n",
       "    </tr>\n",
       "    <tr>\n",
       "      <th>2020-12-24</th>\n",
       "      <td>129.679733</td>\n",
       "      <td>158.634506</td>\n",
       "      <td>86.942497</td>\n",
       "      <td>267.399994</td>\n",
       "      <td>513.969971</td>\n",
       "    </tr>\n",
       "    <tr>\n",
       "      <th>2020-12-28</th>\n",
       "      <td>134.317825</td>\n",
       "      <td>164.197998</td>\n",
       "      <td>88.804497</td>\n",
       "      <td>277.000000</td>\n",
       "      <td>519.119995</td>\n",
       "    </tr>\n",
       "    <tr>\n",
       "      <th>2020-12-29</th>\n",
       "      <td>132.529358</td>\n",
       "      <td>166.100006</td>\n",
       "      <td>87.935997</td>\n",
       "      <td>276.779999</td>\n",
       "      <td>530.869995</td>\n",
       "    </tr>\n",
       "    <tr>\n",
       "      <th>2020-12-30</th>\n",
       "      <td>131.399353</td>\n",
       "      <td>164.292496</td>\n",
       "      <td>86.975998</td>\n",
       "      <td>271.869995</td>\n",
       "      <td>524.590027</td>\n",
       "    </tr>\n",
       "  </tbody>\n",
       "</table>\n",
       "</div>"
      ],
      "text/plain": [
       "                  AAPL        AMZN       GOOG        META        NFLX\n",
       "Date                                                                 \n",
       "2020-12-23  128.687256  159.263504  86.619003  268.109985  514.479980\n",
       "2020-12-24  129.679733  158.634506  86.942497  267.399994  513.969971\n",
       "2020-12-28  134.317825  164.197998  88.804497  277.000000  519.119995\n",
       "2020-12-29  132.529358  166.100006  87.935997  276.779999  530.869995\n",
       "2020-12-30  131.399353  164.292496  86.975998  271.869995  524.590027"
      ]
     },
     "execution_count": 17,
     "metadata": {},
     "output_type": "execute_result"
    }
   ],
   "source": [
    "market_data = get_market_data(list_yahoo_codes, start_date, end_date) \n",
    "close_price_data = market_data.xs(\"Adj Close\", level = 0, axis = 1)\n",
    "close_price_data.tail()"
   ]
  },
  {
   "cell_type": "markdown",
   "id": "abb72121",
   "metadata": {},
   "source": [
    "#### Q2.2 Compute the first and second moments of stock returns for each of these stocks (i.e., their means, variances, and covariances)."
   ]
  },
  {
   "cell_type": "code",
   "execution_count": 24,
   "id": "b284b6f4",
   "metadata": {},
   "outputs": [],
   "source": [
    "log_return = np.log(close_price_data / close_price_data.shift(1)).dropna()"
   ]
  },
  {
   "cell_type": "code",
   "execution_count": 25,
   "id": "622237e1",
   "metadata": {},
   "outputs": [
    {
     "data": {
      "text/html": [
       "<div>\n",
       "<style scoped>\n",
       "    .dataframe tbody tr th:only-of-type {\n",
       "        vertical-align: middle;\n",
       "    }\n",
       "\n",
       "    .dataframe tbody tr th {\n",
       "        vertical-align: top;\n",
       "    }\n",
       "\n",
       "    .dataframe thead th {\n",
       "        text-align: right;\n",
       "    }\n",
       "</style>\n",
       "<table border=\"1\" class=\"dataframe\">\n",
       "  <thead>\n",
       "    <tr style=\"text-align: right;\">\n",
       "      <th></th>\n",
       "      <th>Mean</th>\n",
       "      <th>Variance</th>\n",
       "    </tr>\n",
       "  </thead>\n",
       "  <tbody>\n",
       "    <tr>\n",
       "      <th>AAPL</th>\n",
       "      <td>0.001114</td>\n",
       "      <td>0.000349</td>\n",
       "    </tr>\n",
       "    <tr>\n",
       "      <th>AMZN</th>\n",
       "      <td>0.001568</td>\n",
       "      <td>0.000375</td>\n",
       "    </tr>\n",
       "    <tr>\n",
       "      <th>GOOG</th>\n",
       "      <td>0.000796</td>\n",
       "      <td>0.000286</td>\n",
       "    </tr>\n",
       "    <tr>\n",
       "      <th>META</th>\n",
       "      <td>0.000824</td>\n",
       "      <td>0.000407</td>\n",
       "    </tr>\n",
       "    <tr>\n",
       "      <th>NFLX</th>\n",
       "      <td>0.001560</td>\n",
       "      <td>0.000704</td>\n",
       "    </tr>\n",
       "  </tbody>\n",
       "</table>\n",
       "</div>"
      ],
      "text/plain": [
       "          Mean  Variance\n",
       "AAPL  0.001114  0.000349\n",
       "AMZN  0.001568  0.000375\n",
       "GOOG  0.000796  0.000286\n",
       "META  0.000824  0.000407\n",
       "NFLX  0.001560  0.000704"
      ]
     },
     "execution_count": 25,
     "metadata": {},
     "output_type": "execute_result"
    }
   ],
   "source": [
    "metrics = pd.DataFrame()\n",
    "metrics[\"Mean\"] = log_return.mean()\n",
    "metrics[\"Variance\"] = log_return.var()\n",
    "metrics"
   ]
  },
  {
   "cell_type": "code",
   "execution_count": 26,
   "id": "1df76b88",
   "metadata": {},
   "outputs": [
    {
     "data": {
      "text/html": [
       "<div>\n",
       "<style scoped>\n",
       "    .dataframe tbody tr th:only-of-type {\n",
       "        vertical-align: middle;\n",
       "    }\n",
       "\n",
       "    .dataframe tbody tr th {\n",
       "        vertical-align: top;\n",
       "    }\n",
       "\n",
       "    .dataframe thead th {\n",
       "        text-align: right;\n",
       "    }\n",
       "</style>\n",
       "<table border=\"1\" class=\"dataframe\">\n",
       "  <thead>\n",
       "    <tr style=\"text-align: right;\">\n",
       "      <th></th>\n",
       "      <th>AAPL</th>\n",
       "      <th>AMZN</th>\n",
       "      <th>GOOG</th>\n",
       "      <th>META</th>\n",
       "      <th>NFLX</th>\n",
       "    </tr>\n",
       "  </thead>\n",
       "  <tbody>\n",
       "    <tr>\n",
       "      <th>AAPL</th>\n",
       "      <td>0.000349</td>\n",
       "      <td>0.000202</td>\n",
       "      <td>0.000193</td>\n",
       "      <td>0.000217</td>\n",
       "      <td>0.000209</td>\n",
       "    </tr>\n",
       "    <tr>\n",
       "      <th>AMZN</th>\n",
       "      <td>0.000202</td>\n",
       "      <td>0.000375</td>\n",
       "      <td>0.000215</td>\n",
       "      <td>0.000236</td>\n",
       "      <td>0.000276</td>\n",
       "    </tr>\n",
       "    <tr>\n",
       "      <th>GOOG</th>\n",
       "      <td>0.000193</td>\n",
       "      <td>0.000215</td>\n",
       "      <td>0.000286</td>\n",
       "      <td>0.000229</td>\n",
       "      <td>0.000217</td>\n",
       "    </tr>\n",
       "    <tr>\n",
       "      <th>META</th>\n",
       "      <td>0.000217</td>\n",
       "      <td>0.000236</td>\n",
       "      <td>0.000229</td>\n",
       "      <td>0.000407</td>\n",
       "      <td>0.000241</td>\n",
       "    </tr>\n",
       "    <tr>\n",
       "      <th>NFLX</th>\n",
       "      <td>0.000209</td>\n",
       "      <td>0.000276</td>\n",
       "      <td>0.000217</td>\n",
       "      <td>0.000241</td>\n",
       "      <td>0.000704</td>\n",
       "    </tr>\n",
       "  </tbody>\n",
       "</table>\n",
       "</div>"
      ],
      "text/plain": [
       "          AAPL      AMZN      GOOG      META      NFLX\n",
       "AAPL  0.000349  0.000202  0.000193  0.000217  0.000209\n",
       "AMZN  0.000202  0.000375  0.000215  0.000236  0.000276\n",
       "GOOG  0.000193  0.000215  0.000286  0.000229  0.000217\n",
       "META  0.000217  0.000236  0.000229  0.000407  0.000241\n",
       "NFLX  0.000209  0.000276  0.000217  0.000241  0.000704"
      ]
     },
     "execution_count": 26,
     "metadata": {},
     "output_type": "execute_result"
    }
   ],
   "source": [
    "cov_return = log_return.cov()\n",
    "cov_return"
   ]
  },
  {
   "cell_type": "markdown",
   "id": "484095ac",
   "metadata": {},
   "source": [
    "#### Q2.3 Compute the skewness and excess kurtosis for the returns for each of these stocks. Do the daily stock returns have a Normal distribution?"
   ]
  },
  {
   "cell_type": "code",
   "execution_count": 27,
   "id": "939643c6",
   "metadata": {},
   "outputs": [
    {
     "data": {
      "text/html": [
       "<div>\n",
       "<style scoped>\n",
       "    .dataframe tbody tr th:only-of-type {\n",
       "        vertical-align: middle;\n",
       "    }\n",
       "\n",
       "    .dataframe tbody tr th {\n",
       "        vertical-align: top;\n",
       "    }\n",
       "\n",
       "    .dataframe thead th {\n",
       "        text-align: right;\n",
       "    }\n",
       "</style>\n",
       "<table border=\"1\" class=\"dataframe\">\n",
       "  <thead>\n",
       "    <tr style=\"text-align: right;\">\n",
       "      <th></th>\n",
       "      <th>Mean</th>\n",
       "      <th>Variance</th>\n",
       "      <th>Skew</th>\n",
       "      <th>Excess Kurtosis</th>\n",
       "    </tr>\n",
       "  </thead>\n",
       "  <tbody>\n",
       "    <tr>\n",
       "      <th>AAPL</th>\n",
       "      <td>0.001114</td>\n",
       "      <td>0.000349</td>\n",
       "      <td>-0.325752</td>\n",
       "      <td>3.871250</td>\n",
       "    </tr>\n",
       "    <tr>\n",
       "      <th>AMZN</th>\n",
       "      <td>0.001568</td>\n",
       "      <td>0.000375</td>\n",
       "      <td>0.520067</td>\n",
       "      <td>3.291880</td>\n",
       "    </tr>\n",
       "    <tr>\n",
       "      <th>GOOG</th>\n",
       "      <td>0.000796</td>\n",
       "      <td>0.000286</td>\n",
       "      <td>0.224433</td>\n",
       "      <td>6.305925</td>\n",
       "    </tr>\n",
       "    <tr>\n",
       "      <th>META</th>\n",
       "      <td>0.000824</td>\n",
       "      <td>0.000407</td>\n",
       "      <td>-0.777739</td>\n",
       "      <td>11.239207</td>\n",
       "    </tr>\n",
       "    <tr>\n",
       "      <th>NFLX</th>\n",
       "      <td>0.001560</td>\n",
       "      <td>0.000704</td>\n",
       "      <td>0.346549</td>\n",
       "      <td>3.315500</td>\n",
       "    </tr>\n",
       "  </tbody>\n",
       "</table>\n",
       "</div>"
      ],
      "text/plain": [
       "          Mean  Variance      Skew  Excess Kurtosis\n",
       "AAPL  0.001114  0.000349 -0.325752         3.871250\n",
       "AMZN  0.001568  0.000375  0.520067         3.291880\n",
       "GOOG  0.000796  0.000286  0.224433         6.305925\n",
       "META  0.000824  0.000407 -0.777739        11.239207\n",
       "NFLX  0.001560  0.000704  0.346549         3.315500"
      ]
     },
     "execution_count": 27,
     "metadata": {},
     "output_type": "execute_result"
    }
   ],
   "source": [
    "metrics[\"Skew\"] = log_return.skew()\n",
    "metrics[\"Excess Kurtosis\"] = log_return.kurt() - 3\n",
    "metrics"
   ]
  },
  {
   "cell_type": "markdown",
   "id": "5baa4412",
   "metadata": {},
   "source": [
    "Daily Stocks do not have a normal distribution because the excess kurtosis is not equal to 0. "
   ]
  }
 ],
 "metadata": {
  "kernelspec": {
   "display_name": "Python 3 (ipykernel)",
   "language": "python",
   "name": "python3"
  },
  "language_info": {
   "codemirror_mode": {
    "name": "ipython",
    "version": 3
   },
   "file_extension": ".py",
   "mimetype": "text/x-python",
   "name": "python",
   "nbconvert_exporter": "python",
   "pygments_lexer": "ipython3",
   "version": "3.11.5"
  }
 },
 "nbformat": 4,
 "nbformat_minor": 5
}
