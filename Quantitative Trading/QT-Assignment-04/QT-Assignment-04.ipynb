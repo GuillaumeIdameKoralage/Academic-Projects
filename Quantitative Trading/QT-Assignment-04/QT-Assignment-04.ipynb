{
 "cells": [
  {
   "cell_type": "markdown",
   "metadata": {},
   "source": [
    "# QT-Assignment-04\n",
    "by Guillaume IDAME KORALAGE"
   ]
  },
  {
   "cell_type": "markdown",
   "metadata": {},
   "source": [
    "## Libraries\n",
    "Let's import libraries we will need first."
   ]
  },
  {
   "cell_type": "code",
   "execution_count": null,
   "metadata": {},
   "outputs": [],
   "source": [
    "import numpy as np\n",
    "import matplotlib.pyplot as plt\n",
    "from fbm import FBM"
   ]
  },
  {
   "cell_type": "markdown",
   "metadata": {},
   "source": [
    "## Questions"
   ]
  },
  {
   "cell_type": "markdown",
   "metadata": {
    "id": "Sh9JRHbHysei"
   },
   "source": [
    "#### Q1. Use the Python fbm library to generate a timeseries of signs with long memory. Specifically the autocorrelation decays as  $${C \\sim l^{-\\gamma}}$$ \n",
    "\n"
   ]
  },
  {
   "cell_type": "code",
   "execution_count": null,
   "metadata": {},
   "outputs": [],
   "source": []
  },
  {
   "cell_type": "markdown",
   "metadata": {},
   "source": [
    "#### Q2. Estimate the exponent γ.   "
   ]
  },
  {
   "cell_type": "code",
   "execution_count": 3,
   "metadata": {
    "id": "T6UMjhmas6yI"
   },
   "outputs": [],
   "source": [
    "# Set the parameters\n",
    "hurst_exponent = 0.75\n",
    "length = 100000  # Length of the time series\n",
    "\n",
    "# Generate the fractional Brownian motion with long memory\n",
    "f = FBM(n=length, hurst=hurst_exponent, length=length, method='daviesharte')\n",
    "time_series_long_memory = f.fbm()\n",
    "increments = np.diff(time_series_long_memory)\n",
    "sign_series = np.sign(increments)"
   ]
  },
  {
   "cell_type": "markdown",
   "metadata": {
    "id": "0KXzL3vWgbQk"
   },
   "source": [
    "#### Q3. Generate now an artificial series of mid-point prices using a propagator model, where ɛ is the generated time series and ξ is a random noise.\n",
    "$$\n",
    "m_t = m_{t_0} + \\sum_{t_0≤n<t}  G(t - n) ɛ_n + \\sum_{t_0≤n<t} ξ_n\n",
    "$$"
   ]
  },
  {
   "cell_type": "code",
   "execution_count": null,
   "metadata": {},
   "outputs": [],
   "source": []
  },
  {
   "cell_type": "markdown",
   "metadata": {
    "id": "pckzhwAMiYqf"
   },
   "source": [
    "#### Q4. Take for G a power-law kernel as in the cell below."
   ]
  },
  {
   "cell_type": "code",
   "execution_count": null,
   "metadata": {
    "id": "5bYMLyO2inBT"
   },
   "outputs": [],
   "source": [
    "def G(t, beta=0.3):\n",
    "    return (t + 1)**(-beta)"
   ]
  },
  {
   "cell_type": "code",
   "execution_count": null,
   "metadata": {},
   "outputs": [],
   "source": []
  },
  {
   "cell_type": "markdown",
   "metadata": {
    "id": "c9mVqTbhiman"
   },
   "source": [
    "#### Q5. Estimate the Hurst exponent of the price series (by performing a linear regression of the variagram in log-log scale) for three values of β: β=0.2, β=0.25 and β=-0.3.\n",
    "#### What is your observation?"
   ]
  },
  {
   "cell_type": "code",
   "execution_count": null,
   "metadata": {
    "id": "ybDHh7_R-3Vx"
   },
   "outputs": [],
   "source": []
  }
 ],
 "metadata": {
  "colab": {
   "provenance": []
  },
  "kernelspec": {
   "display_name": "Python 3 (ipykernel)",
   "language": "python",
   "name": "python3"
  },
  "language_info": {
   "codemirror_mode": {
    "name": "ipython",
    "version": 3
   },
   "file_extension": ".py",
   "mimetype": "text/x-python",
   "name": "python",
   "nbconvert_exporter": "python",
   "pygments_lexer": "ipython3",
   "version": "3.11.5"
  }
 },
 "nbformat": 4,
 "nbformat_minor": 1
}
