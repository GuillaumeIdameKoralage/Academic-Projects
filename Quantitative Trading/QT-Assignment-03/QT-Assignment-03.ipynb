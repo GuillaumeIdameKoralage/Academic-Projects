{
 "cells": [
  {
   "cell_type": "markdown",
   "metadata": {
    "id": "hovVftik08Wa"
   },
   "source": [
    "# QT-Assignment-03\n",
    "by Guillaume IDAME KORALAGE"
   ]
  },
  {
   "cell_type": "markdown",
   "metadata": {},
   "source": [
    "# Libraries\n",
    "Let's import libraries we will need first."
   ]
  },
  {
   "cell_type": "code",
   "execution_count": null,
   "metadata": {},
   "outputs": [],
   "source": [
    "import random"
   ]
  },
  {
   "cell_type": "markdown",
   "metadata": {},
   "source": [
    "## Questions"
   ]
  },
  {
   "cell_type": "markdown",
   "metadata": {},
   "source": [
    "The goal of this exercise is to get a flavor of order book modeling. You will simulate a simple particle model, close to the Bak et al. model and analyze the dynamics of mid-point price and bid-ask spread."
   ]
  },
  {
   "cell_type": "code",
   "execution_count": 2,
   "metadata": {
    "id": "XPqaPsb_sVcJ"
   },
   "outputs": [],
   "source": [
    "def simulate_diffusion(N, M, num_steps, p, print_interval=100):\n",
    "    if N % 2 != 0:\n",
    "        raise ValueError(\"N must be an even number for equal numbers of A and B particles\")\n",
    "\n",
    "    half_N = N // 2\n",
    "    half_M = M // 2\n",
    "\n",
    "    # Initialize lists for A and B particle positions with the desired intervals\n",
    "    a_particle_positions = random.sample(range(half_M, M), half_N)\n",
    "    b_particle_positions = random.sample(range(half_M), half_N)\n",
    "\n",
    "    # Create a dictionary to keep track of particle counts at each lattice position\n",
    "    particle_counts = {}\n",
    "\n",
    "    # Initialize the particle counts based on initial positions\n",
    "    for pos in a_particle_positions:\n",
    "        particle_counts[pos] = ('A', particle_counts.get(pos, 0) + 1)\n",
    "    for pos in b_particle_positions:\n",
    "        particle_counts[pos] = ('B', particle_counts.get(pos, 0) + 1)\n",
    "\n",
    "    mp_evol = []\n",
    "\n",
    "    # Perform the diffusion simulation for num_steps\n",
    "    for step in range(num_steps):\n",
    "        # Shuffle the order in which particles move for both A and B\n",
    "        random.shuffle(a_particle_positions)\n",
    "        random.shuffle(b_particle_positions)\n",
    "\n",
    "\n",
    "        most_right_b = max(b_particle_positions) if b_particle_positions else -1\n",
    "        most_left_a = min(a_particle_positions) if a_particle_positions else -1\n",
    "        midpoint  = 0.5*(most_right_b + most_left_a)\n",
    "        mp_evol.append(midpoint)\n",
    "\n",
    "        # Randomly select either A or B particle\n",
    "        chosen_particle_type = random.choice(['A', 'B'])\n",
    "\n",
    "        if chosen_particle_type == 'A':\n",
    "            for i in range(len(a_particle_positions)):\n",
    "                move = random.choices([-1, 0, 1], weights=[p, 1 - 2*p, p])[0]\n",
    "                current_position = a_particle_positions[i]\n",
    "\n",
    "                # Calculate the new position after the move without periodic boundary conditions\n",
    "                new_position = current_position + move\n",
    "\n",
    "                # Ensure the new position is within the lattice boundaries\n",
    "                new_position = max(0, min(new_position, M - 1))\n",
    "\n",
    "                #print('A',current_position, new_position, particle_counts.get(new_position, ('', 0))[0] )\n",
    "\n",
    "                # Check if the new position is not already occupied by another A particle\n",
    "                if particle_counts.get(new_position, ('', 0))[0] != 'A' or particle_counts.get(new_position, ('', 0))[1] == 0:\n",
    "                    # Update the lattice position for the current A particle\n",
    "                    a_particle_positions[i] = new_position\n",
    "                    # Update particle_counts by decrementing the count at the old position\n",
    "                    old_count = particle_counts.get(current_position, ('', 0))[1]\n",
    "                    particle_counts[current_position] = ('A', old_count - 1)\n",
    "                    # Update particle_counts by incrementing the count at the new position\n",
    "                    new_count = particle_counts.get(new_position, ('', 0))[1]\n",
    "                    particle_counts[new_position] = ('A', new_count + 1)\n",
    "\n",
    "        else:\n",
    "            for i in range(len(b_particle_positions)):\n",
    "                move = random.choices([-1, 0, 1], weights=[p, 1 - 2*p, p])[0]\n",
    "                current_position = b_particle_positions[i]\n",
    "\n",
    "                # Calculate the new position after the move without periodic boundary conditions\n",
    "                new_position = current_position + move\n",
    "\n",
    "                # Ensure the new position is within the lattice boundaries\n",
    "                new_position = max(0, min(new_position, M - 1))\n",
    "\n",
    "                #print('B',current_position, new_position, particle_counts.get(new_position, ('', 0))[0] )\n",
    "\n",
    "                # Check if the new position is not already occupied by another B particle\n",
    "                if particle_counts.get(new_position, ('', 0))[0] != 'B' or particle_counts.get(new_position, ('', 0))[1] == 0:\n",
    "                    # Update the lattice position for the current B particle\n",
    "                    b_particle_positions[i] = new_position\n",
    "                    # Update particle_counts by decrementing the count at the old position\n",
    "                    old_count = particle_counts.get(current_position, ('', 0))[1]\n",
    "                    particle_counts[current_position] = ('B', old_count - 1)\n",
    "                    # Update particle_counts by incrementing the count at the new position\n",
    "                    new_count = particle_counts.get(new_position, ('', 0))[1]\n",
    "                    particle_counts[new_position] = ('B', new_count + 1)\n",
    "\n",
    "        # Check for annihilation (A and B particles on the same site)\n",
    "        a_positions_set = set(a_particle_positions)\n",
    "        b_positions_set = set(b_particle_positions)\n",
    "        common_positions = a_positions_set.intersection(b_positions_set)\n",
    "\n",
    "        for pos in common_positions:\n",
    "            a_count = a_particle_positions.count(pos)\n",
    "            b_count = b_particle_positions.count(pos)\n",
    "\n",
    "            if a_count > 0 and b_count > 0:\n",
    "                # Annihilation occurs when there's at least one A and one B particle\n",
    "                a_particle_positions.remove(pos)\n",
    "                b_particle_positions.remove(pos)\n",
    "                # Update particle_counts by removing the entry for the annihilated position\n",
    "                del particle_counts[pos]\n",
    "                #print(\"Trade at\",pos)\n",
    "                # insert new particles to avoid depletion\n",
    "                k=0\n",
    "                while(particle_counts.get(k, ('', 0))[1]>0):\n",
    "                  k = k + 1\n",
    "                particle_counts[k] = ('B',1)\n",
    "                b_particle_positions.append(k)\n",
    "\n",
    "                k=M-1\n",
    "                while(particle_counts.get(k, ('', 0))[1]>0):\n",
    "                  k = k - 1\n",
    "                particle_counts[k] = ('A',1)\n",
    "                a_particle_positions.append(k)\n",
    "\n",
    "\n",
    "    #print(a_particle_positions)\n",
    "    #print(b_particle_positions)\n",
    "    return mp_evol"
   ]
  },
  {
   "cell_type": "code",
   "execution_count": null,
   "metadata": {},
   "outputs": [],
   "source": [
    "# Example usage:\n",
    "N = 80 # Total number of particles (half will be A and half will be B)\n",
    "M = 200  # Size of the 1D lattice\n",
    "num_steps = 100000  # Number of simulation steps\n",
    "p = 0.3  # Probability of left/right movement\n",
    "\n",
    "mp_evol = simulate_diffusion(N, M, num_steps, p, print_interval=1)"
   ]
  },
  {
   "cell_type": "markdown",
   "metadata": {
    "id": "bYv647GT09_z"
   },
   "source": [
    "#### Q1. Consider the following particle model. What are the differences with respect to the model of Per Bak discussed?"
   ]
  },
  {
   "cell_type": "code",
   "execution_count": null,
   "metadata": {},
   "outputs": [],
   "source": []
  },
  {
   "cell_type": "markdown",
   "metadata": {
    "id": "kz3QP7I_1JFB"
   },
   "source": [
    "#### Q2. Plot the evolution of the midprice (mp_evol). What do you notice ?"
   ]
  },
  {
   "cell_type": "code",
   "execution_count": null,
   "metadata": {},
   "outputs": [],
   "source": []
  },
  {
   "cell_type": "markdown",
   "metadata": {
    "id": "HFaUtWz-1hvZ"
   },
   "source": [
    "#### Q3. Calculate the variogram and signature plot discussed in the first lecture."
   ]
  },
  {
   "cell_type": "code",
   "execution_count": null,
   "metadata": {},
   "outputs": [],
   "source": []
  },
  {
   "cell_type": "markdown",
   "metadata": {
    "id": "q6xpKz_vcvrp"
   },
   "source": [
    "#### Q4. Estimate the Hurst exponent."
   ]
  },
  {
   "cell_type": "code",
   "execution_count": null,
   "metadata": {},
   "outputs": [],
   "source": []
  },
  {
   "cell_type": "markdown",
   "metadata": {
    "id": "RwrjxJPZ1X94"
   },
   "source": [
    "#### Q5. Modify the code, such that it also outputs the evolution of the spread. Plot the timeseries. What do you notice?"
   ]
  },
  {
   "cell_type": "code",
   "execution_count": null,
   "metadata": {},
   "outputs": [],
   "source": []
  },
  {
   "cell_type": "markdown",
   "metadata": {
    "id": "JruWnLH81vIp"
   },
   "source": [
    "#### Q6. Plot also the histogram."
   ]
  },
  {
   "cell_type": "code",
   "execution_count": null,
   "metadata": {},
   "outputs": [],
   "source": []
  }
 ],
 "metadata": {
  "colab": {
   "provenance": []
  },
  "kernelspec": {
   "display_name": "Python 3 (ipykernel)",
   "language": "python",
   "name": "python3"
  },
  "language_info": {
   "codemirror_mode": {
    "name": "ipython",
    "version": 3
   },
   "file_extension": ".py",
   "mimetype": "text/x-python",
   "name": "python",
   "nbconvert_exporter": "python",
   "pygments_lexer": "ipython3",
   "version": "3.11.5"
  }
 },
 "nbformat": 4,
 "nbformat_minor": 1
}
